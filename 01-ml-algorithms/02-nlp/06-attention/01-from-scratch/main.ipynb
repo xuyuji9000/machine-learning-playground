{
 "cells": [
  {
   "cell_type": "markdown",
   "id": "dd68d017-3fc4-4b8c-a20d-8e677c1ef939",
   "metadata": {},
   "source": [
    "Refer to this [article](https://medium.com/@christoschr97/understanding-the-attention-mechanism-a-simple-implementation-using-python-and-numpy-3f1feae13fb7) ."
   ]
  },
  {
   "cell_type": "code",
   "execution_count": null,
   "id": "8aba3386-6f15-4e39-96c7-1f1c634caa78",
   "metadata": {},
   "outputs": [],
   "source": []
  }
 ],
 "metadata": {
  "kernelspec": {
   "display_name": "Python 3 (ipykernel)",
   "language": "python",
   "name": "python3"
  },
  "language_info": {
   "codemirror_mode": {
    "name": "ipython",
    "version": 3
   },
   "file_extension": ".py",
   "mimetype": "text/x-python",
   "name": "python",
   "nbconvert_exporter": "python",
   "pygments_lexer": "ipython3",
   "version": "3.13.1"
  }
 },
 "nbformat": 4,
 "nbformat_minor": 5
}
