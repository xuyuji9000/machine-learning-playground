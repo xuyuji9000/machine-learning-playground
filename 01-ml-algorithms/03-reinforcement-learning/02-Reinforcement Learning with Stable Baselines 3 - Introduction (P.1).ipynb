{
 "cells": [
  {
   "cell_type": "markdown",
   "id": "0b88e068-2f32-492c-9f5e-52248d78826b",
   "metadata": {},
   "source": [
    "YouTube video: [Reinforcement Learning with Stable Baselines 3 - Introduction (P.1)](https://www.youtube.com/watch?v=XbWhJdQgi7E)\n",
    "\n",
    "# Timestamps\n",
    "\n",
    "01:06 : install pytorch \\\n",
    "02:50 : terminology     \\\n",
    "05:30 : start of the coding example\n"
   ]
  },
  {
   "cell_type": "code",
   "execution_count": 7,
   "id": "5a9de1cc-050f-40ef-88aa-8ab02988dcf8",
   "metadata": {},
   "outputs": [],
   "source": [
    "import gymnasium as gym"
   ]
  },
  {
   "cell_type": "markdown",
   "id": "c5ff1a8f-ff5a-4d82-a28a-744e0c7868f9",
   "metadata": {},
   "source": [
    "- [reset()](https://gymnasium.farama.org/api/env/)\n",
    "\n",
    "    reset the environment to an initial state, required before calling step \\\n",
    "    returns the first agent observation for an episode and information.     \\\n",
    "    i.e. metrics, debug information\n",
    "\n",
    "- action_space\n",
    "\n",
    "    the space object corresponding to valid actions        \\\n",
    "    all valid actions should be contained within the space\n"
   ]
  },
  {
   "cell_type": "code",
   "execution_count": 64,
   "id": "338d97ed-4f32-4b96-a59d-ddd81919b8a8",
   "metadata": {},
   "outputs": [
    {
     "name": "stdout",
     "output_type": "stream",
     "text": [
      "action shape: ()\n",
      "action sample: 1\n",
      "observation space shape (8,)\n",
      "observation space sample [-0.2806399   1.5509294   2.1582992   4.778237    3.7680156  -9.08855\n",
      "  0.41455573  0.87096834]\n"
     ]
    }
   ],
   "source": [
    "env = gym.make(\"LunarLander-v3\")\n",
    "\n",
    "# Having a new environment\n",
    "# before step into that environment\n",
    "# need to reset the environment to initial state\n",
    "env.reset()\n",
    "\n",
    "print(\"action shape:\", env.action_space.shape)\n",
    "print(\"action sample:\", env.action_space.sample())\n",
    "print(\"observation space shape\", env.observation_space.shape)\n",
    "print(\"observation space sample\", env.observation_space.sample())\n",
    "\n",
    "env.close()"
   ]
  },
  {
   "cell_type": "code",
   "execution_count": null,
   "id": "ace3882c-c04e-4784-bcb0-a6b79cdc730c",
   "metadata": {},
   "outputs": [],
   "source": []
  }
 ],
 "metadata": {
  "kernelspec": {
   "display_name": "Python 3 (ipykernel)",
   "language": "python",
   "name": "python3"
  },
  "language_info": {
   "codemirror_mode": {
    "name": "ipython",
    "version": 3
   },
   "file_extension": ".py",
   "mimetype": "text/x-python",
   "name": "python",
   "nbconvert_exporter": "python",
   "pygments_lexer": "ipython3",
   "version": "3.12.9"
  }
 },
 "nbformat": 4,
 "nbformat_minor": 5
}
