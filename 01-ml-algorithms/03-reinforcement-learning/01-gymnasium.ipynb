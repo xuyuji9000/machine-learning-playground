{
 "cells": [
  {
   "cell_type": "markdown",
   "id": "00d9e612-2ea8-46ff-9431-1302e0d13767",
   "metadata": {},
   "source": [
    "Python Library: [gymnasium](https://gymnasium.farama.org/index.html)"
   ]
  },
  {
   "cell_type": "code",
   "execution_count": 3,
   "id": "ac4086af-d041-4736-8a24-f22bd9f50825",
   "metadata": {},
   "outputs": [],
   "source": [
    "import ale_py\n",
    "import gymnasium as gym\n",
    "\n",
    "gym.register_envs(ale_py)\n"
   ]
  },
  {
   "cell_type": "code",
   "execution_count": 4,
   "id": "d078e5d4-1894-4ab2-b8c6-6c08edb08bfb",
   "metadata": {},
   "outputs": [
    {
     "name": "stderr",
     "output_type": "stream",
     "text": [
      "A.L.E: Arcade Learning Environment (version 0.10.2+c9d4b19)\n",
      "[Powered by Stella]\n"
     ]
    }
   ],
   "source": [
    "env = gym.make(\"ALE/Breakout-v5\")"
   ]
  },
  {
   "cell_type": "code",
   "execution_count": null,
   "id": "4c0a85a9-9803-4c3f-9b98-1aa38b427606",
   "metadata": {},
   "outputs": [],
   "source": []
  }
 ],
 "metadata": {
  "kernelspec": {
   "display_name": "Python 3 (ipykernel)",
   "language": "python",
   "name": "python3"
  },
  "language_info": {
   "codemirror_mode": {
    "name": "ipython",
    "version": 3
   },
   "file_extension": ".py",
   "mimetype": "text/x-python",
   "name": "python",
   "nbconvert_exporter": "python",
   "pygments_lexer": "ipython3",
   "version": "3.12.9"
  }
 },
 "nbformat": 4,
 "nbformat_minor": 5
}
