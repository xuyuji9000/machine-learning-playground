{
 "cells": [
  {
   "cell_type": "markdown",
   "id": "0b88e068-2f32-492c-9f5e-52248d78826b",
   "metadata": {},
   "source": [
    "YouTube video: [Reinforcement Learning with Stable Baselines 3 - Introduction (P.1)](https://www.youtube.com/watch?v=XbWhJdQgi7E)\n",
    "\n",
    "# Timestamps\n",
    "\n",
    "01:06 : install pytorch \\\n",
    "02:50 : terminology     \\\n",
    "05:30 : start of the coding example                         \\\n",
    "07:40 : OP's mindset of approaching reinforcement learning "
   ]
  },
  {
   "cell_type": "markdown",
   "id": "5659c26d-2486-4f2e-b968-dcdcb8db4a3d",
   "metadata": {},
   "source": [
    "# Command\n",
    "\n",
    "1. Export jypyter notebook into python script\n",
    "\n",
    "``` shell\n",
    "jupyter nbconvert --to script your_notebook_name.ipynb\n",
    "\n",
    "```\n",
    "\n",
    "2. execute the human readable environment from python script\n",
    "\n",
    "``` shell\n",
    "python ./02.py\n",
    "```"
   ]
  },
  {
   "cell_type": "code",
   "execution_count": 1,
   "id": "5a9de1cc-050f-40ef-88aa-8ab02988dcf8",
   "metadata": {},
   "outputs": [],
   "source": [
    "import gymnasium as gym"
   ]
  },
  {
   "cell_type": "markdown",
   "id": "c5ff1a8f-ff5a-4d82-a28a-744e0c7868f9",
   "metadata": {},
   "source": [
    "- [reset()](https://gymnasium.farama.org/api/env/)\n",
    "\n",
    "    reset the environment to an initial state, required before calling step \\\n",
    "    returns the first agent observation for an episode and information.     \\\n",
    "    i.e. metrics, debug information\n",
    "\n",
    "- action_space\n",
    "\n",
    "    the space object corresponding to valid actions        \\\n",
    "    all valid actions should be contained within the space\n"
   ]
  },
  {
   "cell_type": "code",
   "execution_count": 5,
   "id": "338d97ed-4f32-4b96-a59d-ddd81919b8a8",
   "metadata": {},
   "outputs": [],
   "source": [
    "env = gym.make(\"LunarLander-v3\", render_mode=None)\n",
    "\n",
    "# Having a new environment\n",
    "# before step into that environment\n",
    "# need to reset the environment to initial state\n",
    "env.reset()\n",
    "\n",
    "for setp in range(200):\n",
    "    env.render()\n",
    "    env.step(env.action_space.sample())\n",
    "\n",
    "env.close()"
   ]
  },
  {
   "cell_type": "code",
   "execution_count": null,
   "id": "ace3882c-c04e-4784-bcb0-a6b79cdc730c",
   "metadata": {},
   "outputs": [],
   "source": []
  }
 ],
 "metadata": {
  "kernelspec": {
   "display_name": "Python 3 (ipykernel)",
   "language": "python",
   "name": "python3"
  },
  "language_info": {
   "codemirror_mode": {
    "name": "ipython",
    "version": 3
   },
   "file_extension": ".py",
   "mimetype": "text/x-python",
   "name": "python",
   "nbconvert_exporter": "python",
   "pygments_lexer": "ipython3",
   "version": "3.12.9"
  }
 },
 "nbformat": 4,
 "nbformat_minor": 5
}
