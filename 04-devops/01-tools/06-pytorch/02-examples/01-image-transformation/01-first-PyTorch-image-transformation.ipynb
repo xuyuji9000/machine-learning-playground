{
 "cells": [
  {
   "cell_type": "code",
   "execution_count": 2,
   "id": "e8714c75-e6bb-4188-917f-5d00fb6082bb",
   "metadata": {},
   "outputs": [
    {
     "data": {
      "text/plain": [
       "torch.Size([3, 450, 800])"
      ]
     },
     "execution_count": 2,
     "metadata": {},
     "output_type": "execute_result"
    }
   ],
   "source": [
    "# Import necessary libraries\n",
    "import torch\n",
    "from PIL import Image\n",
    "import torchvision.transforms as transforms\n",
    "\n",
    "# Read a PIL image\n",
    "image = Image.open('iceland-copy.jpeg')\n",
    "\n",
    "# Define a transform to convert PIL \n",
    "# image to a Torch tensor\n",
    "transform = transforms.Compose([\n",
    "    transforms.PILToTensor()\n",
    "])\n",
    "\n",
    "# transform = transforms.PILToTensor()\n",
    "# Convert the PIL image to Torch tensor\n",
    "img_tensor = transform(image)\n",
    "\n",
    "# print the converted Torch tensor\n",
    "# print(img_tensor)\n",
    "img_tensor.shape"
   ]
  },
  {
   "cell_type": "code",
   "execution_count": null,
   "id": "d1ecd993-3613-441e-84da-a4bb2fb0b87c",
   "metadata": {},
   "outputs": [],
   "source": []
  }
 ],
 "metadata": {
  "kernelspec": {
   "display_name": "Python 3 (ipykernel)",
   "language": "python",
   "name": "python3"
  },
  "language_info": {
   "codemirror_mode": {
    "name": "ipython",
    "version": 3
   },
   "file_extension": ".py",
   "mimetype": "text/x-python",
   "name": "python",
   "nbconvert_exporter": "python",
   "pygments_lexer": "ipython3",
   "version": "3.12.7"
  }
 },
 "nbformat": 4,
 "nbformat_minor": 5
}
