{
 "cells": [
  {
   "cell_type": "code",
   "execution_count": 1,
   "id": "3c5749cb-710c-446b-b5f7-bbcebceb8b40",
   "metadata": {},
   "outputs": [],
   "source": [
    "import torch\n",
    "from torch import nn"
   ]
  },
  {
   "cell_type": "code",
   "execution_count": 2,
   "id": "34be153b-8c8a-4175-bf3c-8f786a60957e",
   "metadata": {},
   "outputs": [],
   "source": [
    "# 1. Choose the hardware accelerator to use\n",
    "\n",
    "# torch.backends.mps.is_available()\n",
    "device = 'mps'"
   ]
  },
  {
   "cell_type": "code",
   "execution_count": 3,
   "id": "6c0cb39a-db7a-4072-8104-53629f79867d",
   "metadata": {},
   "outputs": [],
   "source": [
    "# 2. Define the model\n",
    "\n",
    "class NeuralNetwork(nn.Module):\n",
    "    def __init__(self):\n",
    "        super().__init__()\n",
    "        \n",
    "        self.flatten = nn.Flatten()\n",
    "\n",
    "        self.linear_relu_stack = nn.Sequential(\n",
    "            nn.Linear(28*28, 512),\n",
    "            nn.ReLU(),\n",
    "            nn.Linear(512, 512),\n",
    "            nn.ReLU(),\n",
    "            nn.Linear(512, 10)\n",
    "            \n",
    "        )\n",
    "\n",
    "    def forward(self, x):\n",
    "        x = self.flatten(x)\n",
    "        \n",
    "        logits = self.linear_relu_stack(x)\n",
    "        \n",
    "        return logits\n"
   ]
  },
  {
   "cell_type": "code",
   "execution_count": 4,
   "id": "cce104a5-8fcd-462f-9da7-98ee6df4bfd0",
   "metadata": {},
   "outputs": [
    {
     "name": "stdout",
     "output_type": "stream",
     "text": [
      "NeuralNetwork(\n",
      "  (flatten): Flatten(start_dim=1, end_dim=-1)\n",
      "  (linear_relu_stack): Sequential(\n",
      "    (0): Linear(in_features=784, out_features=512, bias=True)\n",
      "    (1): ReLU()\n",
      "    (2): Linear(in_features=512, out_features=512, bias=True)\n",
      "    (3): ReLU()\n",
      "    (4): Linear(in_features=512, out_features=10, bias=True)\n",
      "  )\n",
      ")\n",
      "----------linear_relu_stack.0.weight----------\n",
      "torch.Size([512, 784])\n",
      "tensor([[ 0.0089, -0.0257, -0.0096,  ..., -0.0282,  0.0317, -0.0322],\n",
      "        [ 0.0082, -0.0239,  0.0185,  ..., -0.0294,  0.0192, -0.0102]],\n",
      "       device='mps:0', grad_fn=<SliceBackward0>)\n",
      "----------linear_relu_stack.0.bias----------\n",
      "torch.Size([512])\n",
      "tensor([-0.0046,  0.0147], device='mps:0', grad_fn=<SliceBackward0>)\n",
      "----------linear_relu_stack.2.weight----------\n",
      "torch.Size([512, 512])\n",
      "tensor([[-0.0117, -0.0408,  0.0423,  ..., -0.0326, -0.0180,  0.0339],\n",
      "        [-0.0299,  0.0229,  0.0161,  ...,  0.0345, -0.0164, -0.0145]],\n",
      "       device='mps:0', grad_fn=<SliceBackward0>)\n",
      "----------linear_relu_stack.2.bias----------\n",
      "torch.Size([512])\n",
      "tensor([ 0.0168, -0.0074], device='mps:0', grad_fn=<SliceBackward0>)\n",
      "----------linear_relu_stack.4.weight----------\n",
      "torch.Size([10, 512])\n",
      "tensor([[ 1.1035e-02,  3.0825e-02,  5.2579e-03,  ...,  1.8214e-02,\n",
      "          1.0697e-02,  1.3486e-02],\n",
      "        [ 7.5722e-05,  1.7852e-02,  1.6144e-02,  ...,  1.6474e-03,\n",
      "         -3.8280e-02, -4.3491e-02]], device='mps:0', grad_fn=<SliceBackward0>)\n",
      "----------linear_relu_stack.4.bias----------\n",
      "torch.Size([10])\n",
      "tensor([0.0218, 0.0338], device='mps:0', grad_fn=<SliceBackward0>)\n"
     ]
    }
   ],
   "source": [
    "# 3. Initialize the model\n",
    "\n",
    "model = NeuralNetwork().to(device)\n",
    "\n",
    "print(model)\n",
    "\n",
    "for name, param in model.named_parameters():\n",
    "    print(f'----------{name}----------')\n",
    "    print(param.shape)\n",
    "    print(param[:2])"
   ]
  },
  {
   "cell_type": "code",
   "execution_count": 8,
   "id": "8e5ec13d-b38a-49e7-a4e6-ca3968b815b9",
   "metadata": {},
   "outputs": [
    {
     "name": "stdout",
     "output_type": "stream",
     "text": [
      "logits: tensor([[-0.0274, -0.0662, -0.0074,  0.0271, -0.0942, -0.0444, -0.0353,  0.0319,\n",
      "         -0.0674,  0.0687]], device='mps:0', grad_fn=<LinearBackward0>)\n",
      "logits.shape: torch.Size([1, 10])\n",
      "pred_probab: tensor([[0.0993, 0.0955, 0.1013, 0.1048, 0.0929, 0.0976, 0.0985, 0.1054, 0.0954,\n",
      "         0.1093]], device='mps:0', grad_fn=<SoftmaxBackward0>)\n",
      "pred_probab shape: torch.Size([1, 10])\n",
      "Predicted class: tensor([9], device='mps:0')\n"
     ]
    }
   ],
   "source": [
    "# 4. use the model for 1 case of prediction\n",
    "\n",
    "X = torch.rand(1,28,28, device=device)\n",
    "\n",
    "logits = model(X)\n",
    "print(f'logits: {logits}')\n",
    "print(f'logits.shape: {logits.shape}')\n",
    "\n",
    "\n",
    "pred_probab = nn.Softmax(dim=1)(logits)\n",
    "print(f'pred_probab: { pred_probab }')\n",
    "print(f'pred_probab shape: { pred_probab.shape }')\n",
    "y_pred = pred_probab.argmax(1)\n",
    "\n",
    "\n",
    "print(f\"Predicted class: {y_pred}\")"
   ]
  },
  {
   "cell_type": "code",
   "execution_count": 6,
   "id": "08026c88-0857-4091-9ee7-9cf3d976f593",
   "metadata": {},
   "outputs": [
    {
     "name": "stdout",
     "output_type": "stream",
     "text": [
      "tensor([[-0.2380, -1.9356, -0.0540,  0.0089],\n",
      "        [-0.3114,  1.7560,  0.8787, -2.5100],\n",
      "        [ 0.4066,  0.5323,  0.7411,  1.4264],\n",
      "        [-0.9227,  2.7609, -0.4521, -0.3625]])\n",
      "along dimension 0 (columns), max_indices_dim0: tensor([2, 3, 1, 2])\n",
      "along dimension 1 (rows), max_indices_dim1: tensor([3, 1, 3, 1])\n",
      "max_indices_keepdim: tensor([[3],\n",
      "        [1],\n",
      "        [3],\n",
      "        [1]])\n"
     ]
    }
   ],
   "source": [
    "# 5. check torch.argmax function's dim parameter impact\n",
    "# on the result of the function\n",
    "\n",
    "import torch\n",
    "\n",
    "# Create a random 2D tensor\n",
    "a = torch.randn(4, 4)\n",
    "\n",
    "print(a)\n",
    "\n",
    "# Get the indices of the maximum values along dimension 0 (columns)\n",
    "max_indices_dim0 = torch.argmax(a, dim=0)\n",
    "\n",
    "# Get the indices of the maximum values along dimension 1 (rows)\n",
    "max_indices_dim1 = torch.argmax(a, dim=1)\n",
    "\n",
    "# Using keepdim\n",
    "max_indices_keepdim = torch.argmax(a, dim=1, keepdim=True)\n",
    "\n",
    "print(f'along dimension 0 (columns), max_indices_dim0: { max_indices_dim0 }')\n",
    "print(f'along dimension 1 (rows), max_indices_dim1: { max_indices_dim1 }')\n",
    "print(f'max_indices_keepdim: { max_indices_keepdim }')"
   ]
  }
 ],
 "metadata": {
  "kernelspec": {
   "display_name": "Python 3 (ipykernel)",
   "language": "python",
   "name": "python3"
  },
  "language_info": {
   "codemirror_mode": {
    "name": "ipython",
    "version": 3
   },
   "file_extension": ".py",
   "mimetype": "text/x-python",
   "name": "python",
   "nbconvert_exporter": "python",
   "pygments_lexer": "ipython3",
   "version": "3.12.9"
  }
 },
 "nbformat": 4,
 "nbformat_minor": 5
}
