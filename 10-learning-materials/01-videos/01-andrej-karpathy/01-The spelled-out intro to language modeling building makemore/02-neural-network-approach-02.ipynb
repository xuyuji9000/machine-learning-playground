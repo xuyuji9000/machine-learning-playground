{
 "cells": [
  {
   "cell_type": "markdown",
   "id": "d5620388-a9b3-4852-9031-f0559a92875e",
   "metadata": {},
   "source": [
    "In this notebook.\n",
    "\n",
    "A a neural network approache will be used.\n",
    "\n",
    "And this notebook is based on this [video](https://youtu.be/PaCmpygFfXo?si=jlreZYqCOdqHNMwA&t=5177)."
   ]
  },
  {
   "cell_type": "code",
   "execution_count": 1,
   "id": "6cbbe753-7199-4e17-ba6f-36c04cb962ce",
   "metadata": {},
   "outputs": [
    {
     "data": {
      "text/plain": [
       "32033"
      ]
     },
     "execution_count": 1,
     "metadata": {},
     "output_type": "execute_result"
    }
   ],
   "source": [
    "# Load data \n",
    "\n",
    "words = open('./data/names.txt', 'r').read().splitlines()\n",
    "\n",
    "len(words)"
   ]
  },
  {
   "cell_type": "code",
   "execution_count": 2,
   "id": "504588df-4fc2-4a89-9951-ce0a4a3de158",
   "metadata": {},
   "outputs": [],
   "source": [
    "\n",
    "\n",
    "chars = sorted(list(set(''.join(words))))\n",
    "\n",
    "stoi = { s:i+1 for i, s in enumerate(chars)}\n",
    "stoi['.'] = 0\n",
    "itos = { i:s for s, i in stoi.items()}"
   ]
  },
  {
   "cell_type": "markdown",
   "id": "f8821527-880e-443a-a23a-c6606b177c53",
   "metadata": {},
   "source": [
    "## - prepare training set"
   ]
  },
  {
   "cell_type": "code",
   "execution_count": 3,
   "id": "d5e1eb8a-b756-4268-8fc1-8b410d99a96a",
   "metadata": {},
   "outputs": [
    {
     "name": "stdout",
     "output_type": "stream",
     "text": [
      "number of examples: 228146\n"
     ]
    }
   ],
   "source": [
    "import torch\n",
    "\n",
    "# Create the training set of bigram (x,y)\n",
    "\n",
    "xs, ys = [], []\n",
    "\n",
    "for w in words:\n",
    "    \n",
    "    chs = ['.'] + list(w) + ['.']\n",
    "    \n",
    "    # zip() generate the [2-consecutive characters]\n",
    "    for ch1, ch2  in zip(chs, chs[1:]):\n",
    "\n",
    "        ix1 = stoi[ch1]\n",
    "        ix2 = stoi[ch2]\n",
    "        # print(ch1, ch2)\n",
    "\n",
    "        xs.append(ix1)\n",
    "        ys.append(ix2)\n",
    "\n",
    "xs = torch.tensor(xs)\n",
    "ys = torch.tensor(ys)\n",
    "num = xs.nelement()\n",
    "\n",
    "print(f'number of examples: {num}')\n"
   ]
  },
  {
   "cell_type": "markdown",
   "id": "d6119b9f-ec21-4cfc-b944-60d8705e2e1c",
   "metadata": {},
   "source": [
    "## - initialize the network"
   ]
  },
  {
   "cell_type": "code",
   "execution_count": 4,
   "id": "1a5b1839-8d7d-4912-a71e-192188a59bab",
   "metadata": {},
   "outputs": [],
   "source": [
    "# Randomly initialize 27 neuron weights, each neuron receives 27 inputs\n",
    "g = torch.Generator().manual_seed(2147483647)\n",
    "\n",
    "W = torch.randn((27, 27), generator=g, requires_grad=True)"
   ]
  },
  {
   "cell_type": "markdown",
   "id": "e68362b6-e039-4fce-9d9d-c159a11d65a2",
   "metadata": {},
   "source": [
    "## - training"
   ]
  },
  {
   "cell_type": "code",
   "execution_count": 60,
   "id": "8076b788-dce8-42cb-9221-585ded91dc08",
   "metadata": {},
   "outputs": [
    {
     "name": "stdout",
     "output_type": "stream",
     "text": [
      "2.4810140132904053\n"
     ]
    }
   ],
   "source": [
    "import torch.nn.functional as F\n",
    "\n",
    "for k in range(100):\n",
    "\n",
    "    # forward pass\n",
    "\n",
    "    xenc = F.one_hot(xs, num_classes=27).float() # input to the network: one-hot encoding\n",
    "    \n",
    "    logits = xenc @ W     # Semantics: log-counts\n",
    "    \n",
    "    counts = logits.exp() # Semantics: counts, equivalent to N\n",
    "    probs = counts / counts.sum(1, keepdims=True) # probability for next character\n",
    "    \n",
    "    loss = -probs[torch.arange(num), ys].log().mean() + 0.01*(W**2).mean()\n",
    "    # print(loss.item())\n",
    "\n",
    "    # backward pass\n",
    "\n",
    "    W.grad = None # set to zero the gradient\n",
    "    loss.backward()\n",
    "\n",
    "    # update\n",
    "    W.data += -10 * W.grad\n",
    "\n",
    "print(loss.item())\n"
   ]
  },
  {
   "cell_type": "markdown",
   "id": "f0cfb098-2194-409a-8d45-2c03653a1cec",
   "metadata": {},
   "source": [
    "## - sample"
   ]
  },
  {
   "cell_type": "code",
   "execution_count": 68,
   "id": "f88ce211-b2e3-46db-87a6-58b682f841df",
   "metadata": {},
   "outputs": [
    {
     "name": "stdout",
     "output_type": "stream",
     "text": [
      "cexze.\n",
      "momasurailezityha.\n",
      "konimittain.\n",
      "llayn.\n",
      "ka.\n"
     ]
    }
   ],
   "source": [
    "g = torch.Generator().manual_seed(2147483647)\n",
    "\n",
    "for i in range(5):\n",
    "    out = []\n",
    "    ix = 0\n",
    "    while True:\n",
    "        xenc = F.one_hot(torch.tensor([ix]), num_classes=27).float() # input to the network: one-hot encoding\n",
    "        logits = xenc @ W # predict log-counts\n",
    "        counts = logits.exp() # counts\n",
    "        p = counts / counts.sum(dim=1, keepdim=True) # probabilities for the next character\n",
    "\n",
    "        ix = torch.multinomial(p, num_samples=1, replacement=True, generator=g).item()\n",
    "        out.append(itos[ix])\n",
    "        if 0 == ix :\n",
    "            break\n",
    "    print(''.join(out))\n",
    "        "
   ]
  },
  {
   "cell_type": "code",
   "execution_count": null,
   "id": "694dc3df-fb9c-4417-9442-4e3a2b5cb4a2",
   "metadata": {},
   "outputs": [],
   "source": []
  }
 ],
 "metadata": {
  "kernelspec": {
   "display_name": "Python 3 (ipykernel)",
   "language": "python",
   "name": "python3"
  },
  "language_info": {
   "codemirror_mode": {
    "name": "ipython",
    "version": 3
   },
   "file_extension": ".py",
   "mimetype": "text/x-python",
   "name": "python",
   "nbconvert_exporter": "python",
   "pygments_lexer": "ipython3",
   "version": "3.12.7"
  }
 },
 "nbformat": 4,
 "nbformat_minor": 5
}
