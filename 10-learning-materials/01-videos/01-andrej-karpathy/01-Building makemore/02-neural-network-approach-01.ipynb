{
 "cells": [
  {
   "cell_type": "markdown",
   "id": "e0d236a6-56ca-4b5d-ae3c-8f6d76dc5383",
   "metadata": {},
   "source": [
    "# Introduction\n",
    "This the **./01-brigram** notebook.\n",
    "\n",
    "A probability distribution, that is based on bigram counts, is used to generate name predictions."
   ]
  },
  {
   "cell_type": "markdown",
   "id": "d5620388-a9b3-4852-9031-f0559a92875e",
   "metadata": {},
   "source": [
    "In this notebook.\n",
    "\n",
    "A a neural network approache will be used.\n",
    "\n",
    "And this notebook is based on this [video](https://youtu.be/PaCmpygFfXo?si=jlreZYqCOdqHNMwA&t=5177)."
   ]
  },
  {
   "cell_type": "code",
   "execution_count": 1,
   "id": "6cbbe753-7199-4e17-ba6f-36c04cb962ce",
   "metadata": {},
   "outputs": [
    {
     "data": {
      "text/plain": [
       "32033"
      ]
     },
     "execution_count": 1,
     "metadata": {},
     "output_type": "execute_result"
    }
   ],
   "source": [
    "# Load data \n",
    "\n",
    "words = open('./data/names.txt', 'r').read().splitlines()\n",
    "\n",
    "len(words)"
   ]
  },
  {
   "cell_type": "code",
   "execution_count": 2,
   "id": "504588df-4fc2-4a89-9951-ce0a4a3de158",
   "metadata": {},
   "outputs": [],
   "source": [
    "\n",
    "\n",
    "chars = sorted(list(set(''.join(words))))\n",
    "\n",
    "stoi = { s:i+1 for i, s in enumerate(chars)}\n",
    "stoi['.'] = 0\n",
    "itos = { i:s for s, i in stoi.items()}"
   ]
  },
  {
   "cell_type": "markdown",
   "id": "f8821527-880e-443a-a23a-c6606b177c53",
   "metadata": {},
   "source": [
    "## - Prepare Training Set"
   ]
  },
  {
   "cell_type": "code",
   "execution_count": 3,
   "id": "d5e1eb8a-b756-4268-8fc1-8b410d99a96a",
   "metadata": {},
   "outputs": [
    {
     "name": "stdout",
     "output_type": "stream",
     "text": [
      ". e\n",
      "e m\n",
      "m m\n",
      "m a\n",
      "a .\n"
     ]
    }
   ],
   "source": [
    "import torch\n",
    "\n",
    "# Create the training set of bigram (x,y)\n",
    "\n",
    "xs, ys = [], []\n",
    "\n",
    "for w in words[:1]:\n",
    "    \n",
    "    chs = ['.'] + list(w) + ['.']\n",
    "    \n",
    "    # zip() generate the [2-consecutive characters]\n",
    "    for ch1, ch2  in zip(chs, chs[1:]):\n",
    "\n",
    "        ix1 = stoi[ch1]\n",
    "        ix2 = stoi[ch2]\n",
    "        print(ch1, ch2)\n",
    "\n",
    "        xs.append(ix1)\n",
    "        ys.append(ix2)\n",
    "\n",
    "xs = torch.tensor(xs)\n",
    "ys = torch.tensor(ys)\n"
   ]
  },
  {
   "cell_type": "code",
   "execution_count": 4,
   "id": "abb77f68-f1b8-49fb-a073-7f9a6d384925",
   "metadata": {
    "scrolled": true
   },
   "outputs": [
    {
     "data": {
      "text/plain": [
       "(tensor([ 0,  5, 13, 13,  1]), tensor([ 5, 13, 13,  1,  0]))"
      ]
     },
     "execution_count": 4,
     "metadata": {},
     "output_type": "execute_result"
    }
   ],
   "source": [
    "xs, ys"
   ]
  },
  {
   "cell_type": "markdown",
   "id": "d6119b9f-ec21-4cfc-b944-60d8705e2e1c",
   "metadata": {},
   "source": [
    "## - Setup Neural Network"
   ]
  },
  {
   "cell_type": "code",
   "execution_count": 5,
   "id": "1a5b1839-8d7d-4912-a71e-192188a59bab",
   "metadata": {},
   "outputs": [],
   "source": [
    "# Randomly initialize 27 neuron weights, each neuron receives 27 inputs\n",
    "g = torch.Generator().manual_seed(2147483647)\n",
    "\n",
    "W = torch.randn((27, 27), generator=g, requires_grad=True)\n",
    "# W.shape, W[0,:]"
   ]
  },
  {
   "cell_type": "code",
   "execution_count": 52,
   "id": "af35b527-79bc-433f-945b-3a6c09858589",
   "metadata": {},
   "outputs": [],
   "source": [
    "import torch.nn.functional as F\n",
    "\n",
    "# forward pass\n",
    "\n",
    "xenc = F.one_hot(xs, num_classes=27).float() # input to the network: one-hot encoding\n",
    "\n",
    "logits = xenc @ W     # Semantics: log-counts\n",
    "\n",
    "counts = logits.exp() # Semantics: counts, equivalent to N\n",
    "probs = counts / counts.sum(1, keepdims=True) # probability for next character\n",
    "\n",
    "loss = -probs[torch.arange(5), ys].log().mean()"
   ]
  },
  {
   "cell_type": "code",
   "execution_count": 53,
   "id": "6f6f4fdf-a5e7-44bb-96b4-d416bc9563d6",
   "metadata": {},
   "outputs": [
    {
     "data": {
      "text/plain": [
       "3.5899956226348877"
      ]
     },
     "execution_count": 53,
     "metadata": {},
     "output_type": "execute_result"
    }
   ],
   "source": [
    "loss.item()"
   ]
  },
  {
   "cell_type": "markdown",
   "id": "c177f686-60de-4119-ae93-c141d0b3ba96",
   "metadata": {},
   "source": [
    "## - Calculate loss\n",
    "\n",
    "Negative log likelihood used here."
   ]
  },
  {
   "cell_type": "code",
   "execution_count": 49,
   "id": "b47aebd5-858c-4992-9895-2316f3e3971c",
   "metadata": {},
   "outputs": [],
   "source": [
    "%%capture\n",
    "\n",
    "nlls = torch.zeros(5)\n",
    "\n",
    "for i in range(5):\n",
    "    # i-th bigram:\n",
    "    x = xs[i].item() # input character index\n",
    "    y = ys[i].item() # label character index\n",
    "\n",
    "    print('----------\\n')\n",
    "    print(f'bigram example {i+1}: {itos[x]}{itos[y]} (indexes {x}, {y})')\n",
    "    print('input to the neural net: ', x)\n",
    "    print('output probabilities from the neural net: ', probs[i])\n",
    "    print('label (actual next character:)', y)\n",
    "    p = probs[i, y]\n",
    "    print('probability assigned by the net to the correct character', p.item())\n",
    "    logp = torch.log(p)\n",
    "    print('log likelihood:', logp.item())\n",
    "    nll = -logp\n",
    "    print('negative log likelihood:', nll.item())\n",
    "    nlls[i] = nll\n",
    "\n",
    "print('============')\n",
    "print('average negative log likelihood, i.e. loss = ', nlls.mean().item())"
   ]
  },
  {
   "cell_type": "code",
   "execution_count": 50,
   "id": "51ffdb65-395c-47dd-81cf-db10ba915cf7",
   "metadata": {},
   "outputs": [],
   "source": [
    "# backward pass\n",
    "\n",
    "W.grad = None # set to zero the gradient\n",
    "loss.backward()"
   ]
  },
  {
   "cell_type": "code",
   "execution_count": 51,
   "id": "e49ca964-9053-4c45-8357-4c77bb803646",
   "metadata": {},
   "outputs": [],
   "source": [
    "W.data += -0.1 * W.grad"
   ]
  }
 ],
 "metadata": {
  "kernelspec": {
   "display_name": "Python 3 (ipykernel)",
   "language": "python",
   "name": "python3"
  },
  "language_info": {
   "codemirror_mode": {
    "name": "ipython",
    "version": 3
   },
   "file_extension": ".py",
   "mimetype": "text/x-python",
   "name": "python",
   "nbconvert_exporter": "python",
   "pygments_lexer": "ipython3",
   "version": "3.12.7"
  }
 },
 "nbformat": 4,
 "nbformat_minor": 5
}
