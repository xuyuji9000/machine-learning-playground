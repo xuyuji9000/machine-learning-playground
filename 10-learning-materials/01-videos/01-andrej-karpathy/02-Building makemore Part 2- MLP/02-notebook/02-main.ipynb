{
 "cells": [
  {
   "cell_type": "code",
   "execution_count": 6,
   "id": "5f031d46-dc0b-4081-9d70-5e93da2a9e92",
   "metadata": {},
   "outputs": [],
   "source": [
    "import torch\n",
    "import torch.nn.functional as F\n",
    "import matplotlib.pyplot as plt\n"
   ]
  },
  {
   "cell_type": "code",
   "execution_count": null,
   "id": "4ba592b0-39ee-4a06-a982-289ea5363052",
   "metadata": {},
   "outputs": [],
   "source": [
    "Find the names.txt [here](https://github.com/karpathy/makemore/blob/master/names.txt)."
   ]
  }
 ],
 "metadata": {
  "kernelspec": {
   "display_name": "Python 3 (ipykernel)",
   "language": "python",
   "name": "python3"
  },
  "language_info": {
   "codemirror_mode": {
    "name": "ipython",
    "version": 3
   },
   "file_extension": ".py",
   "mimetype": "text/x-python",
   "name": "python",
   "nbconvert_exporter": "python",
   "pygments_lexer": "ipython3",
   "version": "3.12.7"
  }
 },
 "nbformat": 4,
 "nbformat_minor": 5
}
